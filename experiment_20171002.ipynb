{
 "cells": [
  {
   "cell_type": "code",
   "execution_count": 1,
   "metadata": {
    "collapsed": true
   },
   "outputs": [],
   "source": [
    "import numpy as np\n",
    "import matplotlib.pyplot as plt\n",
    "from PIL import Image\n",
    "from PIL.ExifTags import TAGS\n",
    "import pandas as pd\n",
    "import os\n",
    "from glob import glob\n",
    "from gistool import get_GPS, get_datetime\n",
    "%matplotlib inline"
   ]
  },
  {
   "cell_type": "code",
   "execution_count": 2,
   "metadata": {
    "collapsed": true
   },
   "outputs": [],
   "source": [
    "# 画像パラメータ\n",
    "POLE_RADIUS = 6356752.314   #極半径\n",
    "EQUATOR_RADIUS = 6378137    #赤道半径"
   ]
  },
  {
   "cell_type": "code",
   "execution_count": 3,
   "metadata": {
    "collapsed": true
   },
   "outputs": [],
   "source": [
    "imgpath = os.path.join(os.getcwd(), \"img\")\n",
    "imglst = glob(os.path.join(imgpath, '*.JPG'))\n",
    "flst = [os.path.basename(f) for f in imglst]\n",
    "df = pd.DataFrame(imglst, columns=[\"fpath\"])\n",
    "df['fname'] = df['fpath'].map(os.path.basename)\n",
    "\n",
    "gps_keys = ['lat', 'lon', 'alt']\n",
    "for k in gps_keys:\n",
    "    df[k] = df['fpath'].map(get_GPS).apply(pd.Series)[k].apply(pd.Series)\n",
    "df['DateTime'] = df['fpath'].map(get_datetime)\n",
    "# df.to_csv('file_list.csv', columns=['fname', 'DateTime', 'lat', 'lon', 'alt'])\n",
    "\n",
    "height_lst = [0, 5, 10, 20, 40, 60, 80, 100, 130, 150]"
   ]
  },
  {
   "cell_type": "code",
   "execution_count": 24,
   "metadata": {},
   "outputs": [
    {
     "data": {
      "text/plain": [
       "<matplotlib.figure.Figure at 0x2173963b2e8>"
      ]
     },
     "metadata": {},
     "output_type": "display_data"
    }
   ],
   "source": [
    "%run drone-dataframe.py"
   ]
  },
  {
   "cell_type": "code",
   "execution_count": 4,
   "metadata": {},
   "outputs": [
    {
     "data": {
      "text/html": [
       "<div>\n",
       "<style>\n",
       "    .dataframe thead tr:only-child th {\n",
       "        text-align: right;\n",
       "    }\n",
       "\n",
       "    .dataframe thead th {\n",
       "        text-align: left;\n",
       "    }\n",
       "\n",
       "    .dataframe tbody tr th {\n",
       "        vertical-align: top;\n",
       "    }\n",
       "</style>\n",
       "<table border=\"1\" class=\"dataframe\">\n",
       "  <thead>\n",
       "    <tr style=\"text-align: right;\">\n",
       "      <th></th>\n",
       "      <th>fpath</th>\n",
       "      <th>fname</th>\n",
       "      <th>lat</th>\n",
       "      <th>lon</th>\n",
       "      <th>alt</th>\n",
       "      <th>DateTime</th>\n",
       "    </tr>\n",
       "  </thead>\n",
       "  <tbody>\n",
       "    <tr>\n",
       "      <th>0</th>\n",
       "      <td>C:\\Users\\takeshi\\pyworks\\drone\\img\\DJI_0001.JPG</td>\n",
       "      <td>DJI_0001.JPG</td>\n",
       "      <td>35.699255</td>\n",
       "      <td>139.235553</td>\n",
       "      <td>184.784</td>\n",
       "      <td>2017:10:02 09:04:12</td>\n",
       "    </tr>\n",
       "    <tr>\n",
       "      <th>1</th>\n",
       "      <td>C:\\Users\\takeshi\\pyworks\\drone\\img\\DJI_0002.JPG</td>\n",
       "      <td>DJI_0002.JPG</td>\n",
       "      <td>35.699253</td>\n",
       "      <td>139.235551</td>\n",
       "      <td>184.791</td>\n",
       "      <td>2017:10:02 09:04:15</td>\n",
       "    </tr>\n",
       "    <tr>\n",
       "      <th>2</th>\n",
       "      <td>C:\\Users\\takeshi\\pyworks\\drone\\img\\DJI_0003.JPG</td>\n",
       "      <td>DJI_0003.JPG</td>\n",
       "      <td>35.699253</td>\n",
       "      <td>139.235550</td>\n",
       "      <td>184.781</td>\n",
       "      <td>2017:10:02 09:04:19</td>\n",
       "    </tr>\n",
       "    <tr>\n",
       "      <th>3</th>\n",
       "      <td>C:\\Users\\takeshi\\pyworks\\drone\\img\\DJI_0004.JPG</td>\n",
       "      <td>DJI_0004.JPG</td>\n",
       "      <td>35.699247</td>\n",
       "      <td>139.235544</td>\n",
       "      <td>189.773</td>\n",
       "      <td>2017:10:02 09:06:07</td>\n",
       "    </tr>\n",
       "    <tr>\n",
       "      <th>4</th>\n",
       "      <td>C:\\Users\\takeshi\\pyworks\\drone\\img\\DJI_0005.JPG</td>\n",
       "      <td>DJI_0005.JPG</td>\n",
       "      <td>35.699248</td>\n",
       "      <td>139.235543</td>\n",
       "      <td>189.773</td>\n",
       "      <td>2017:10:02 09:06:09</td>\n",
       "    </tr>\n",
       "  </tbody>\n",
       "</table>\n",
       "</div>"
      ],
      "text/plain": [
       "                                             fpath         fname        lat  \\\n",
       "0  C:\\Users\\takeshi\\pyworks\\drone\\img\\DJI_0001.JPG  DJI_0001.JPG  35.699255   \n",
       "1  C:\\Users\\takeshi\\pyworks\\drone\\img\\DJI_0002.JPG  DJI_0002.JPG  35.699253   \n",
       "2  C:\\Users\\takeshi\\pyworks\\drone\\img\\DJI_0003.JPG  DJI_0003.JPG  35.699253   \n",
       "3  C:\\Users\\takeshi\\pyworks\\drone\\img\\DJI_0004.JPG  DJI_0004.JPG  35.699247   \n",
       "4  C:\\Users\\takeshi\\pyworks\\drone\\img\\DJI_0005.JPG  DJI_0005.JPG  35.699248   \n",
       "\n",
       "          lon      alt             DateTime  \n",
       "0  139.235553  184.784  2017:10:02 09:04:12  \n",
       "1  139.235551  184.791  2017:10:02 09:04:15  \n",
       "2  139.235550  184.781  2017:10:02 09:04:19  \n",
       "3  139.235544  189.773  2017:10:02 09:06:07  \n",
       "4  139.235543  189.773  2017:10:02 09:06:09  "
      ]
     },
     "execution_count": 4,
     "metadata": {},
     "output_type": "execute_result"
    }
   ],
   "source": [
    "df.head()"
   ]
  },
  {
   "cell_type": "code",
   "execution_count": 5,
   "metadata": {
    "collapsed": true
   },
   "outputs": [],
   "source": [
    "df['height'] = df.alt - df.alt.loc[0]"
   ]
  },
  {
   "cell_type": "code",
   "execution_count": 6,
   "metadata": {},
   "outputs": [
    {
     "data": {
      "text/html": [
       "<div>\n",
       "<style>\n",
       "    .dataframe thead tr:only-child th {\n",
       "        text-align: right;\n",
       "    }\n",
       "\n",
       "    .dataframe thead th {\n",
       "        text-align: left;\n",
       "    }\n",
       "\n",
       "    .dataframe tbody tr th {\n",
       "        vertical-align: top;\n",
       "    }\n",
       "</style>\n",
       "<table border=\"1\" class=\"dataframe\">\n",
       "  <thead>\n",
       "    <tr style=\"text-align: right;\">\n",
       "      <th></th>\n",
       "      <th>fpath</th>\n",
       "      <th>fname</th>\n",
       "      <th>lat</th>\n",
       "      <th>lon</th>\n",
       "      <th>alt</th>\n",
       "      <th>DateTime</th>\n",
       "      <th>height</th>\n",
       "    </tr>\n",
       "  </thead>\n",
       "  <tbody>\n",
       "    <tr>\n",
       "      <th>0</th>\n",
       "      <td>C:\\Users\\takeshi\\pyworks\\drone\\img\\DJI_0001.JPG</td>\n",
       "      <td>DJI_0001.JPG</td>\n",
       "      <td>35.699255</td>\n",
       "      <td>139.235553</td>\n",
       "      <td>184.784</td>\n",
       "      <td>2017:10:02 09:04:12</td>\n",
       "      <td>0.000</td>\n",
       "    </tr>\n",
       "    <tr>\n",
       "      <th>1</th>\n",
       "      <td>C:\\Users\\takeshi\\pyworks\\drone\\img\\DJI_0002.JPG</td>\n",
       "      <td>DJI_0002.JPG</td>\n",
       "      <td>35.699253</td>\n",
       "      <td>139.235551</td>\n",
       "      <td>184.791</td>\n",
       "      <td>2017:10:02 09:04:15</td>\n",
       "      <td>0.007</td>\n",
       "    </tr>\n",
       "    <tr>\n",
       "      <th>2</th>\n",
       "      <td>C:\\Users\\takeshi\\pyworks\\drone\\img\\DJI_0003.JPG</td>\n",
       "      <td>DJI_0003.JPG</td>\n",
       "      <td>35.699253</td>\n",
       "      <td>139.235550</td>\n",
       "      <td>184.781</td>\n",
       "      <td>2017:10:02 09:04:19</td>\n",
       "      <td>-0.003</td>\n",
       "    </tr>\n",
       "    <tr>\n",
       "      <th>3</th>\n",
       "      <td>C:\\Users\\takeshi\\pyworks\\drone\\img\\DJI_0004.JPG</td>\n",
       "      <td>DJI_0004.JPG</td>\n",
       "      <td>35.699247</td>\n",
       "      <td>139.235544</td>\n",
       "      <td>189.773</td>\n",
       "      <td>2017:10:02 09:06:07</td>\n",
       "      <td>4.989</td>\n",
       "    </tr>\n",
       "    <tr>\n",
       "      <th>4</th>\n",
       "      <td>C:\\Users\\takeshi\\pyworks\\drone\\img\\DJI_0005.JPG</td>\n",
       "      <td>DJI_0005.JPG</td>\n",
       "      <td>35.699248</td>\n",
       "      <td>139.235543</td>\n",
       "      <td>189.773</td>\n",
       "      <td>2017:10:02 09:06:09</td>\n",
       "      <td>4.989</td>\n",
       "    </tr>\n",
       "  </tbody>\n",
       "</table>\n",
       "</div>"
      ],
      "text/plain": [
       "                                             fpath         fname        lat  \\\n",
       "0  C:\\Users\\takeshi\\pyworks\\drone\\img\\DJI_0001.JPG  DJI_0001.JPG  35.699255   \n",
       "1  C:\\Users\\takeshi\\pyworks\\drone\\img\\DJI_0002.JPG  DJI_0002.JPG  35.699253   \n",
       "2  C:\\Users\\takeshi\\pyworks\\drone\\img\\DJI_0003.JPG  DJI_0003.JPG  35.699253   \n",
       "3  C:\\Users\\takeshi\\pyworks\\drone\\img\\DJI_0004.JPG  DJI_0004.JPG  35.699247   \n",
       "4  C:\\Users\\takeshi\\pyworks\\drone\\img\\DJI_0005.JPG  DJI_0005.JPG  35.699248   \n",
       "\n",
       "          lon      alt             DateTime  height  \n",
       "0  139.235553  184.784  2017:10:02 09:04:12   0.000  \n",
       "1  139.235551  184.791  2017:10:02 09:04:15   0.007  \n",
       "2  139.235550  184.781  2017:10:02 09:04:19  -0.003  \n",
       "3  139.235544  189.773  2017:10:02 09:06:07   4.989  \n",
       "4  139.235543  189.773  2017:10:02 09:06:09   4.989  "
      ]
     },
     "execution_count": 6,
     "metadata": {},
     "output_type": "execute_result"
    }
   ],
   "source": [
    "df.head()"
   ]
  },
  {
   "cell_type": "code",
   "execution_count": 7,
   "metadata": {},
   "outputs": [
    {
     "data": {
      "text/html": [
       "<div>\n",
       "<style>\n",
       "    .dataframe thead tr:only-child th {\n",
       "        text-align: right;\n",
       "    }\n",
       "\n",
       "    .dataframe thead th {\n",
       "        text-align: left;\n",
       "    }\n",
       "\n",
       "    .dataframe tbody tr th {\n",
       "        vertical-align: top;\n",
       "    }\n",
       "</style>\n",
       "<table border=\"1\" class=\"dataframe\">\n",
       "  <thead>\n",
       "    <tr style=\"text-align: right;\">\n",
       "      <th></th>\n",
       "      <th>lat</th>\n",
       "      <th>lon</th>\n",
       "      <th>alt</th>\n",
       "      <th>height</th>\n",
       "    </tr>\n",
       "  </thead>\n",
       "  <tbody>\n",
       "    <tr>\n",
       "      <th>count</th>\n",
       "      <td>332.000000</td>\n",
       "      <td>332.000000</td>\n",
       "      <td>332.000000</td>\n",
       "      <td>332.000000</td>\n",
       "    </tr>\n",
       "    <tr>\n",
       "      <th>mean</th>\n",
       "      <td>35.699361</td>\n",
       "      <td>139.235478</td>\n",
       "      <td>257.970669</td>\n",
       "      <td>73.186669</td>\n",
       "    </tr>\n",
       "    <tr>\n",
       "      <th>std</th>\n",
       "      <td>0.000151</td>\n",
       "      <td>0.000209</td>\n",
       "      <td>46.675937</td>\n",
       "      <td>46.675937</td>\n",
       "    </tr>\n",
       "    <tr>\n",
       "      <th>min</th>\n",
       "      <td>35.699082</td>\n",
       "      <td>139.234984</td>\n",
       "      <td>184.740000</td>\n",
       "      <td>-0.044000</td>\n",
       "    </tr>\n",
       "    <tr>\n",
       "      <th>25%</th>\n",
       "      <td>35.699241</td>\n",
       "      <td>139.235341</td>\n",
       "      <td>204.717000</td>\n",
       "      <td>19.933000</td>\n",
       "    </tr>\n",
       "    <tr>\n",
       "      <th>50%</th>\n",
       "      <td>35.699330</td>\n",
       "      <td>139.235496</td>\n",
       "      <td>261.054000</td>\n",
       "      <td>76.270000</td>\n",
       "    </tr>\n",
       "    <tr>\n",
       "      <th>75%</th>\n",
       "      <td>35.699466</td>\n",
       "      <td>139.235588</td>\n",
       "      <td>316.155000</td>\n",
       "      <td>131.371000</td>\n",
       "    </tr>\n",
       "    <tr>\n",
       "      <th>max</th>\n",
       "      <td>35.699717</td>\n",
       "      <td>139.235929</td>\n",
       "      <td>336.255000</td>\n",
       "      <td>151.471000</td>\n",
       "    </tr>\n",
       "  </tbody>\n",
       "</table>\n",
       "</div>"
      ],
      "text/plain": [
       "              lat         lon         alt      height\n",
       "count  332.000000  332.000000  332.000000  332.000000\n",
       "mean    35.699361  139.235478  257.970669   73.186669\n",
       "std      0.000151    0.000209   46.675937   46.675937\n",
       "min     35.699082  139.234984  184.740000   -0.044000\n",
       "25%     35.699241  139.235341  204.717000   19.933000\n",
       "50%     35.699330  139.235496  261.054000   76.270000\n",
       "75%     35.699466  139.235588  316.155000  131.371000\n",
       "max     35.699717  139.235929  336.255000  151.471000"
      ]
     },
     "execution_count": 7,
     "metadata": {},
     "output_type": "execute_result"
    }
   ],
   "source": [
    "df.describe()"
   ]
  },
  {
   "cell_type": "code",
   "execution_count": 8,
   "metadata": {},
   "outputs": [
    {
     "data": {
      "text/html": [
       "<div>\n",
       "<style>\n",
       "    .dataframe thead tr:only-child th {\n",
       "        text-align: right;\n",
       "    }\n",
       "\n",
       "    .dataframe thead th {\n",
       "        text-align: left;\n",
       "    }\n",
       "\n",
       "    .dataframe tbody tr th {\n",
       "        vertical-align: top;\n",
       "    }\n",
       "</style>\n",
       "<table border=\"1\" class=\"dataframe\">\n",
       "  <thead>\n",
       "    <tr style=\"text-align: right;\">\n",
       "      <th></th>\n",
       "      <th>fname</th>\n",
       "      <th>DateTime</th>\n",
       "      <th>lat</th>\n",
       "      <th>lon</th>\n",
       "      <th>alt</th>\n",
       "      <th>height</th>\n",
       "    </tr>\n",
       "    <tr>\n",
       "      <th>ID</th>\n",
       "      <th></th>\n",
       "      <th></th>\n",
       "      <th></th>\n",
       "      <th></th>\n",
       "      <th></th>\n",
       "      <th></th>\n",
       "    </tr>\n",
       "  </thead>\n",
       "  <tbody>\n",
       "    <tr>\n",
       "      <th>0</th>\n",
       "      <td>DJI_0001.JPG</td>\n",
       "      <td>2017:10:02 09:04:12</td>\n",
       "      <td>35.699255</td>\n",
       "      <td>139.235553</td>\n",
       "      <td>184.784</td>\n",
       "      <td>0.000</td>\n",
       "    </tr>\n",
       "    <tr>\n",
       "      <th>1</th>\n",
       "      <td>DJI_0002.JPG</td>\n",
       "      <td>2017:10:02 09:04:15</td>\n",
       "      <td>35.699253</td>\n",
       "      <td>139.235551</td>\n",
       "      <td>184.791</td>\n",
       "      <td>0.007</td>\n",
       "    </tr>\n",
       "    <tr>\n",
       "      <th>2</th>\n",
       "      <td>DJI_0003.JPG</td>\n",
       "      <td>2017:10:02 09:04:19</td>\n",
       "      <td>35.699253</td>\n",
       "      <td>139.235550</td>\n",
       "      <td>184.781</td>\n",
       "      <td>-0.003</td>\n",
       "    </tr>\n",
       "    <tr>\n",
       "      <th>3</th>\n",
       "      <td>DJI_0004.JPG</td>\n",
       "      <td>2017:10:02 09:06:07</td>\n",
       "      <td>35.699247</td>\n",
       "      <td>139.235544</td>\n",
       "      <td>189.773</td>\n",
       "      <td>4.989</td>\n",
       "    </tr>\n",
       "    <tr>\n",
       "      <th>4</th>\n",
       "      <td>DJI_0005.JPG</td>\n",
       "      <td>2017:10:02 09:06:09</td>\n",
       "      <td>35.699248</td>\n",
       "      <td>139.235543</td>\n",
       "      <td>189.773</td>\n",
       "      <td>4.989</td>\n",
       "    </tr>\n",
       "  </tbody>\n",
       "</table>\n",
       "</div>"
      ],
      "text/plain": [
       "           fname             DateTime        lat         lon      alt  height\n",
       "ID                                                                           \n",
       "0   DJI_0001.JPG  2017:10:02 09:04:12  35.699255  139.235553  184.784   0.000\n",
       "1   DJI_0002.JPG  2017:10:02 09:04:15  35.699253  139.235551  184.791   0.007\n",
       "2   DJI_0003.JPG  2017:10:02 09:04:19  35.699253  139.235550  184.781  -0.003\n",
       "3   DJI_0004.JPG  2017:10:02 09:06:07  35.699247  139.235544  189.773   4.989\n",
       "4   DJI_0005.JPG  2017:10:02 09:06:09  35.699248  139.235543  189.773   4.989"
      ]
     },
     "execution_count": 8,
     "metadata": {},
     "output_type": "execute_result"
    }
   ],
   "source": [
    "df_xlsx = pd.read_excel('実験データ解析_20171002.xlsx', skiprows=2, index_col=0)\n",
    "del df_xlsx['exp_pattern']\n",
    "del df_xlsx['lens']\n",
    "del df_xlsx['memo']\n",
    "df_xlsx.head()"
   ]
  },
  {
   "cell_type": "code",
   "execution_count": 9,
   "metadata": {},
   "outputs": [
    {
     "data": {
      "text/html": [
       "<div>\n",
       "<style>\n",
       "    .dataframe thead tr:only-child th {\n",
       "        text-align: right;\n",
       "    }\n",
       "\n",
       "    .dataframe thead th {\n",
       "        text-align: left;\n",
       "    }\n",
       "\n",
       "    .dataframe tbody tr th {\n",
       "        vertical-align: top;\n",
       "    }\n",
       "</style>\n",
       "<table border=\"1\" class=\"dataframe\">\n",
       "  <thead>\n",
       "    <tr style=\"text-align: right;\">\n",
       "      <th></th>\n",
       "      <th>fpath</th>\n",
       "      <th>fname</th>\n",
       "      <th>lat</th>\n",
       "      <th>lon</th>\n",
       "      <th>alt</th>\n",
       "      <th>DateTime</th>\n",
       "      <th>height</th>\n",
       "    </tr>\n",
       "  </thead>\n",
       "  <tbody>\n",
       "    <tr>\n",
       "      <th>0</th>\n",
       "      <td>C:\\Users\\takeshi\\pyworks\\drone\\img\\DJI_0001.JPG</td>\n",
       "      <td>DJI_0001.JPG</td>\n",
       "      <td>35.699255</td>\n",
       "      <td>139.235553</td>\n",
       "      <td>184.784</td>\n",
       "      <td>2017:10:02 09:04:12</td>\n",
       "      <td>0.000</td>\n",
       "    </tr>\n",
       "    <tr>\n",
       "      <th>1</th>\n",
       "      <td>C:\\Users\\takeshi\\pyworks\\drone\\img\\DJI_0002.JPG</td>\n",
       "      <td>DJI_0002.JPG</td>\n",
       "      <td>35.699253</td>\n",
       "      <td>139.235551</td>\n",
       "      <td>184.791</td>\n",
       "      <td>2017:10:02 09:04:15</td>\n",
       "      <td>0.007</td>\n",
       "    </tr>\n",
       "    <tr>\n",
       "      <th>2</th>\n",
       "      <td>C:\\Users\\takeshi\\pyworks\\drone\\img\\DJI_0003.JPG</td>\n",
       "      <td>DJI_0003.JPG</td>\n",
       "      <td>35.699253</td>\n",
       "      <td>139.235550</td>\n",
       "      <td>184.781</td>\n",
       "      <td>2017:10:02 09:04:19</td>\n",
       "      <td>-0.003</td>\n",
       "    </tr>\n",
       "  </tbody>\n",
       "</table>\n",
       "</div>"
      ],
      "text/plain": [
       "                                             fpath         fname        lat  \\\n",
       "0  C:\\Users\\takeshi\\pyworks\\drone\\img\\DJI_0001.JPG  DJI_0001.JPG  35.699255   \n",
       "1  C:\\Users\\takeshi\\pyworks\\drone\\img\\DJI_0002.JPG  DJI_0002.JPG  35.699253   \n",
       "2  C:\\Users\\takeshi\\pyworks\\drone\\img\\DJI_0003.JPG  DJI_0003.JPG  35.699253   \n",
       "\n",
       "          lon      alt             DateTime  height  \n",
       "0  139.235553  184.784  2017:10:02 09:04:12   0.000  \n",
       "1  139.235551  184.791  2017:10:02 09:04:15   0.007  \n",
       "2  139.235550  184.781  2017:10:02 09:04:19  -0.003  "
      ]
     },
     "execution_count": 9,
     "metadata": {},
     "output_type": "execute_result"
    }
   ],
   "source": [
    "exp1 = df.loc[0:2]\n",
    "exp1.head()"
   ]
  },
  {
   "cell_type": "code",
   "execution_count": 10,
   "metadata": {},
   "outputs": [
    {
     "data": {
      "text/html": [
       "<div>\n",
       "<style>\n",
       "    .dataframe thead tr:only-child th {\n",
       "        text-align: right;\n",
       "    }\n",
       "\n",
       "    .dataframe thead th {\n",
       "        text-align: left;\n",
       "    }\n",
       "\n",
       "    .dataframe tbody tr th {\n",
       "        vertical-align: top;\n",
       "    }\n",
       "</style>\n",
       "<table border=\"1\" class=\"dataframe\">\n",
       "  <thead>\n",
       "    <tr style=\"text-align: right;\">\n",
       "      <th></th>\n",
       "      <th>lat</th>\n",
       "      <th>lon</th>\n",
       "      <th>alt</th>\n",
       "      <th>height</th>\n",
       "    </tr>\n",
       "  </thead>\n",
       "  <tbody>\n",
       "    <tr>\n",
       "      <th>count</th>\n",
       "      <td>3.000000</td>\n",
       "      <td>3.000000</td>\n",
       "      <td>3.000000</td>\n",
       "      <td>3.000000</td>\n",
       "    </tr>\n",
       "    <tr>\n",
       "      <th>mean</th>\n",
       "      <td>35.699254</td>\n",
       "      <td>139.235551</td>\n",
       "      <td>184.785333</td>\n",
       "      <td>0.001333</td>\n",
       "    </tr>\n",
       "    <tr>\n",
       "      <th>std</th>\n",
       "      <td>0.000001</td>\n",
       "      <td>0.000002</td>\n",
       "      <td>0.005132</td>\n",
       "      <td>0.005132</td>\n",
       "    </tr>\n",
       "    <tr>\n",
       "      <th>min</th>\n",
       "      <td>35.699253</td>\n",
       "      <td>139.235550</td>\n",
       "      <td>184.781000</td>\n",
       "      <td>-0.003000</td>\n",
       "    </tr>\n",
       "    <tr>\n",
       "      <th>25%</th>\n",
       "      <td>35.699253</td>\n",
       "      <td>139.235550</td>\n",
       "      <td>184.782500</td>\n",
       "      <td>-0.001500</td>\n",
       "    </tr>\n",
       "    <tr>\n",
       "      <th>50%</th>\n",
       "      <td>35.699253</td>\n",
       "      <td>139.235551</td>\n",
       "      <td>184.784000</td>\n",
       "      <td>0.000000</td>\n",
       "    </tr>\n",
       "    <tr>\n",
       "      <th>75%</th>\n",
       "      <td>35.699254</td>\n",
       "      <td>139.235552</td>\n",
       "      <td>184.787500</td>\n",
       "      <td>0.003500</td>\n",
       "    </tr>\n",
       "    <tr>\n",
       "      <th>max</th>\n",
       "      <td>35.699255</td>\n",
       "      <td>139.235553</td>\n",
       "      <td>184.791000</td>\n",
       "      <td>0.007000</td>\n",
       "    </tr>\n",
       "  </tbody>\n",
       "</table>\n",
       "</div>"
      ],
      "text/plain": [
       "             lat         lon         alt    height\n",
       "count   3.000000    3.000000    3.000000  3.000000\n",
       "mean   35.699254  139.235551  184.785333  0.001333\n",
       "std     0.000001    0.000002    0.005132  0.005132\n",
       "min    35.699253  139.235550  184.781000 -0.003000\n",
       "25%    35.699253  139.235550  184.782500 -0.001500\n",
       "50%    35.699253  139.235551  184.784000  0.000000\n",
       "75%    35.699254  139.235552  184.787500  0.003500\n",
       "max    35.699255  139.235553  184.791000  0.007000"
      ]
     },
     "execution_count": 10,
     "metadata": {},
     "output_type": "execute_result"
    }
   ],
   "source": [
    "exp1.describe()"
   ]
  },
  {
   "cell_type": "code",
   "execution_count": 11,
   "metadata": {},
   "outputs": [
    {
     "data": {
      "text/plain": [
       "(2.0000000020559128e-06, 3.0000000208474376e-06)"
      ]
     },
     "execution_count": 11,
     "metadata": {},
     "output_type": "execute_result"
    }
   ],
   "source": [
    "latdeg = exp1.lat.max() - exp1.lat.min()\n",
    "londeg = exp1.lon.max() - exp1.lon.min()\n",
    "latdeg, londeg\n",
    "# delta-lon = exp_df1['lon'].max() - exp_df1['lon'].min()\n",
    "# print(delta-lat, delta-lon)"
   ]
  },
  {
   "cell_type": "code",
   "execution_count": 12,
   "metadata": {},
   "outputs": [
    {
     "name": "stdout",
     "output_type": "stream",
     "text": [
      "0.180803141883 0.332838775152\n"
     ]
    }
   ],
   "source": [
    "lat0 = exp1['lat'].mean()\n",
    "lon0 = exp1['lon'].mean()\n",
    "from math import pi, cos, sin\n",
    "latdis = latdeg * (EQUATOR_RADIUS * cos(lat0 * pi / 180.0)) * pi / 180.0\n",
    "londis = londeg * POLE_RADIUS / 180 * pi\n",
    "print(latdis, londis)"
   ]
  },
  {
   "cell_type": "code",
   "execution_count": 13,
   "metadata": {},
   "outputs": [
    {
     "data": {
      "text/plain": [
       "<matplotlib.text.Text at 0x20cb4cd2fd0>"
      ]
     },
     "execution_count": 13,
     "metadata": {},
     "output_type": "execute_result"
    },
    {
     "data": {
      "image/png": "[encoded data removed]",
      "text/plain": [
       "<matplotlib.figure.Figure at 0x20cb4aedf98>"
      ]
     },
     "metadata": {},
     "output_type": "display_data"
    }
   ],
   "source": [
    "fig = plt.figure()\n",
    "plt.plot(exp1['lon'], exp1['lat'], 'bo')\n",
    "plt.title('座標')"
   ]
  },
  {
   "cell_type": "code",
   "execution_count": null,
   "metadata": {
    "collapsed": true
   },
   "outputs": [],
   "source": [
    "d_1m = 1\n",
    "theta = d_1m * 180 / (pi * EQUATOR_RADIUS * cos(lat0 * pi / 180.0))"
   ]
  },
  {
   "cell_type": "code",
   "execution_count": null,
   "metadata": {
    "collapsed": true
   },
   "outputs": [],
   "source": [
    "theta"
   ]
  },
  {
   "cell_type": "code",
   "execution_count": null,
   "metadata": {
    "collapsed": true
   },
   "outputs": [],
   "source": []
  }
 ],
 "metadata": {
  "kernelspec": {
   "display_name": "Python 3",
   "language": "python",
   "name": "python3"
  },
  "language_info": {
   "codemirror_mode": {
    "name": "ipython",
    "version": 3
   },
   "file_extension": ".py",
   "mimetype": "text/x-python",
   "name": "python",
   "nbconvert_exporter": "python",
   "pygments_lexer": "ipython3",
   "version": "3.6.1"
  }
 },
 "nbformat": 4,
 "nbformat_minor": 2
}
